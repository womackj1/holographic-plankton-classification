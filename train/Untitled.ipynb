{
 "cells": [
  {
   "cell_type": "code",
   "execution_count": 4,
   "id": "aggregate-creator",
   "metadata": {},
   "outputs": [],
   "source": [
    "# %run data.py\n",
    "from torch.utils.data import Dataset, DataLoader\n",
    "from torchvision import transforms\n",
    "import torch\n",
    "import numpy as np\n",
    "from PIL import Image\n",
    "\n",
    "def default_loader(path):\n",
    "    return Image.open(path).convert('F')\n",
    "\n",
    "class microPlankton(Dataset):\n",
    "    # 构造函数带有默认参数\n",
    "    def __init__(self, root, dataTXT, transform=None, target_transform=None, loader=default_loader):\n",
    "        fileTXT = open(root + dataTXT, 'r')  # read the txt file,which has imgPath and label\n",
    "        imgs = []  # creat a empty list named imgs, which is used to baggage some imgs\n",
    "        for line in fileTXT:\n",
    "            line = line.strip('\\n')\n",
    "            line = line.rstrip()\n",
    "            words = line.split()  # get a list file of fileTXT\n",
    "            imgs.append((words[0], int(words[1])))  # thus imgs is the list of img and its label\n",
    "\n",
    "        self.imgs = imgs\n",
    "        self.transform = transform\n",
    "        self.target_transform = target_transform\n",
    "        self.loader = loader\n",
    "\n",
    "    def __getitem__(self, item):\n",
    "        imgDataPath, label = self.imgs[item]\n",
    "        img = self.loader(imgDataPath)\n",
    "        if self.transform is not None:\n",
    "            img = self.transform(img)\n",
    "        return img, label\n",
    "\n",
    "    def __len__(self):\n",
    "        return len(self.imgs)\n",
    "\n"
   ]
  },
  {
   "cell_type": "code",
   "execution_count": 6,
   "id": "monetary-elements",
   "metadata": {},
   "outputs": [],
   "source": [
    "%run data.py"
   ]
  },
  {
   "cell_type": "code",
   "execution_count": 7,
   "id": "abroad-assignment",
   "metadata": {},
   "outputs": [
    {
     "ename": "NameError",
     "evalue": "name 'img' is not defined",
     "output_type": "error",
     "traceback": [
      "\u001b[1;31m---------------------------------------------------------------------------\u001b[0m",
      "\u001b[1;31mNameError\u001b[0m                                 Traceback (most recent call last)",
      "\u001b[1;32m<ipython-input-7-17cbc277c5de>\u001b[0m in \u001b[0;36m<module>\u001b[1;34m\u001b[0m\n\u001b[1;32m----> 1\u001b[1;33m \u001b[0mprint\u001b[0m\u001b[1;33m(\u001b[0m\u001b[0mimg\u001b[0m\u001b[1;33m)\u001b[0m\u001b[1;33m\u001b[0m\u001b[1;33m\u001b[0m\u001b[0m\n\u001b[0m",
      "\u001b[1;31mNameError\u001b[0m: name 'img' is not defined"
     ]
    }
   ],
   "source": [
    "print(img)"
   ]
  },
  {
   "cell_type": "code",
   "execution_count": 8,
   "id": "furnished-amber",
   "metadata": {},
   "outputs": [
    {
     "name": "stdout",
     "output_type": "stream",
     "text": [
      "Variable         Type        Data/Info\n",
      "--------------------------------------\n",
      "DataLoader       type        <class 'torch.utils.data.dataloader.DataLoader'>\n",
      "Dataset          type        <class 'torch.utils.data.dataset.Dataset'>\n",
      "Image            module      <module 'PIL.Image' from <...>packages\\\\PIL\\\\Image.py'>\n",
      "default_loader   function    <function default_loader at 0x000002807F09D820>\n",
      "microPlankton    type        <class '__main__.microPlankton'>\n",
      "np               module      <module 'numpy' from 'C:\\<...>ges\\\\numpy\\\\__init__.py'>\n",
      "torch            module      <module 'torch' from 'C:\\<...>ges\\\\torch\\\\__init__.py'>\n",
      "transforms       module      <module 'torchvision.tran<...>transforms\\\\__init__.py'>\n"
     ]
    }
   ],
   "source": [
    "whos\n"
   ]
  },
  {
   "cell_type": "code",
   "execution_count": 9,
   "id": "professional-wages",
   "metadata": {},
   "outputs": [
    {
     "ename": "NameError",
     "evalue": "name 'fileTXT' is not defined",
     "output_type": "error",
     "traceback": [
      "\u001b[1;31m---------------------------------------------------------------------------\u001b[0m",
      "\u001b[1;31mNameError\u001b[0m                                 Traceback (most recent call last)",
      "\u001b[1;32m<ipython-input-9-99d7a3215217>\u001b[0m in \u001b[0;36m<module>\u001b[1;34m\u001b[0m\n\u001b[1;32m----> 1\u001b[1;33m \u001b[0mprint\u001b[0m\u001b[1;33m(\u001b[0m\u001b[0mfileTXT\u001b[0m\u001b[1;33m)\u001b[0m\u001b[1;33m\u001b[0m\u001b[1;33m\u001b[0m\u001b[0m\n\u001b[0m",
      "\u001b[1;31mNameError\u001b[0m: name 'fileTXT' is not defined"
     ]
    }
   ],
   "source": [
    "print(fileTXT)"
   ]
  },
  {
   "cell_type": "code",
   "execution_count": 11,
   "id": "based-crack",
   "metadata": {},
   "outputs": [],
   "source": [
    "# %load data.py\n",
    "from torch.utils.data import Dataset, DataLoader\n",
    "from torchvision import transforms\n",
    "import torch\n",
    "import numpy as np\n",
    "from PIL import Image\n",
    "\n",
    "def default_loader(path):\n",
    "    return Image.open(path).convert('F')\n",
    "\n",
    "class microPlankton(Dataset):\n",
    "    # 构造函数带有默认参数\n",
    "    def __init__(self, root, dataTXT, transform=None, target_transform=None, loader=default_loader):\n",
    "        fileTXT = open(root + dataTXT, 'r')  # read the txt file,which has imgPath and label\n",
    "        imgs = []  # creat a empty list named imgs, which is used to baggage some imgs\n",
    "        for line in fileTXT:\n",
    "            line = line.strip('\\n')\n",
    "            line = line.rstrip()\n",
    "            words = line.split()  # get a list file of fileTXT\n",
    "            imgs.append((words[0], int(words[1])))  # thus imgs is the list of img and its label\n",
    "\n",
    "        self.imgs = imgs\n",
    "        self.transform = transform\n",
    "        self.target_transform = target_transform\n",
    "        self.loader = loader\n",
    "\n",
    "    def __getitem__(self, item):\n",
    "        imgDataPath, label = self.imgs[item]\n",
    "        img = self.loader(imgDataPath)\n",
    "        if self.transform is not None:\n",
    "            img = self.transform(img)\n",
    "        return img, label\n",
    "\n",
    "    def __len__(self):\n",
    "        return len(self.imgs)\n",
    "\n"
   ]
  },
  {
   "cell_type": "code",
   "execution_count": 12,
   "id": "ultimate-minute",
   "metadata": {},
   "outputs": [
    {
     "ename": "NameError",
     "evalue": "name 'fileTXT' is not defined",
     "output_type": "error",
     "traceback": [
      "\u001b[1;31m---------------------------------------------------------------------------\u001b[0m",
      "\u001b[1;31mNameError\u001b[0m                                 Traceback (most recent call last)",
      "\u001b[1;32m<ipython-input-12-99d7a3215217>\u001b[0m in \u001b[0;36m<module>\u001b[1;34m\u001b[0m\n\u001b[1;32m----> 1\u001b[1;33m \u001b[0mprint\u001b[0m\u001b[1;33m(\u001b[0m\u001b[0mfileTXT\u001b[0m\u001b[1;33m)\u001b[0m\u001b[1;33m\u001b[0m\u001b[1;33m\u001b[0m\u001b[0m\n\u001b[0m",
      "\u001b[1;31mNameError\u001b[0m: name 'fileTXT' is not defined"
     ]
    }
   ],
   "source": [
    "print(fileTXT)"
   ]
  },
  {
   "cell_type": "code",
   "execution_count": 22,
   "id": "ranking-scheduling",
   "metadata": {},
   "outputs": [],
   "source": [
    "from torch.utils.data import Dataset, DataLoader\n",
    "from torchvision import transforms\n",
    "import torch\n",
    "import numpy as np\n",
    "from PIL import Image\n",
    "\n",
    "def default_loader(path):\n",
    "    return Image.open(path).convert('F')\n",
    "\n",
    "class microPlankton(Dataset):\n",
    "    # 构造函数带有默认参数\n",
    "    def __init__(self, root, dataTXT, transform=None, target_transform=None, loader=default_loader):\n",
    "        fileTXT = open(root + dataTXT, 'r')  # read the txt file,which has imgPath and label\n",
    "      \n",
    "        imgs = []  # creat a empty list named imgs, which is used to baggage some imgs\n",
    "        for line in fileTXT:\n",
    "            line = line.strip('\\n')\n",
    "            line = line.rstrip()\n",
    "            words = line.split()  # get a list file of fileTXT\n",
    "            print(words)\n",
    "            imgs.append((words[0], int(words[1])))  # thus imgs is the list of img and its label\n",
    "\n",
    "        self.imgs = imgs\n",
    "        self.transform = transform\n",
    "        self.target_transform = target_transform\n",
    "        self.loader = loader\n",
    "\n",
    "    def __getitem__(self, item):\n",
    "        imgDataPath, label = self.imgs[item]\n",
    "        img = self.loader(imgDataPath)\n",
    "        if self.transform is not None:\n",
    "            img = self.transform(img)\n",
    "        return img, label\n",
    "\n",
    "    def __len__(self):\n",
    "        return len(self.imgs)\n"
   ]
  },
  {
   "cell_type": "code",
   "execution_count": 18,
   "id": "essential-government",
   "metadata": {},
   "outputs": [
    {
     "ename": "NameError",
     "evalue": "name 'fileTXT' is not defined",
     "output_type": "error",
     "traceback": [
      "\u001b[1;31m---------------------------------------------------------------------------\u001b[0m",
      "\u001b[1;31mNameError\u001b[0m                                 Traceback (most recent call last)",
      "\u001b[1;32m<ipython-input-18-99d7a3215217>\u001b[0m in \u001b[0;36m<module>\u001b[1;34m\u001b[0m\n\u001b[1;32m----> 1\u001b[1;33m \u001b[0mprint\u001b[0m\u001b[1;33m(\u001b[0m\u001b[0mfileTXT\u001b[0m\u001b[1;33m)\u001b[0m\u001b[1;33m\u001b[0m\u001b[1;33m\u001b[0m\u001b[0m\n\u001b[0m",
      "\u001b[1;31mNameError\u001b[0m: name 'fileTXT' is not defined"
     ]
    }
   ],
   "source": [
    "  print(fileTXT)"
   ]
  },
  {
   "cell_type": "code",
   "execution_count": 19,
   "id": "seeing-vatican",
   "metadata": {},
   "outputs": [
    {
     "ename": "NameError",
     "evalue": "name 'words' is not defined",
     "output_type": "error",
     "traceback": [
      "\u001b[1;31m---------------------------------------------------------------------------\u001b[0m",
      "\u001b[1;31mNameError\u001b[0m                                 Traceback (most recent call last)",
      "\u001b[1;32m<ipython-input-19-9f8a1f0e2534>\u001b[0m in \u001b[0;36m<module>\u001b[1;34m\u001b[0m\n\u001b[1;32m----> 1\u001b[1;33m \u001b[0mprint\u001b[0m\u001b[1;33m(\u001b[0m\u001b[0mwords\u001b[0m\u001b[1;33m)\u001b[0m\u001b[1;33m\u001b[0m\u001b[1;33m\u001b[0m\u001b[0m\n\u001b[0m",
      "\u001b[1;31mNameError\u001b[0m: name 'words' is not defined"
     ]
    }
   ],
   "source": [
    "print(words)"
   ]
  },
  {
   "cell_type": "code",
   "execution_count": 23,
   "id": "material-wallpaper",
   "metadata": {},
   "outputs": [
    {
     "ename": "NameError",
     "evalue": "name 'root' is not defined",
     "output_type": "error",
     "traceback": [
      "\u001b[1;31m---------------------------------------------------------------------------\u001b[0m",
      "\u001b[1;31mNameError\u001b[0m                                 Traceback (most recent call last)",
      "\u001b[1;32m<ipython-input-23-e3b1b643f642>\u001b[0m in \u001b[0;36m<module>\u001b[1;34m\u001b[0m\n\u001b[1;32m----> 1\u001b[1;33m \u001b[0mfileTXT\u001b[0m \u001b[1;33m=\u001b[0m \u001b[0mopen\u001b[0m\u001b[1;33m(\u001b[0m\u001b[0mroot\u001b[0m \u001b[1;33m+\u001b[0m \u001b[0mdataTXT\u001b[0m\u001b[1;33m,\u001b[0m \u001b[1;34m'r'\u001b[0m\u001b[1;33m)\u001b[0m\u001b[1;33m\u001b[0m\u001b[1;33m\u001b[0m\u001b[0m\n\u001b[0m",
      "\u001b[1;31mNameError\u001b[0m: name 'root' is not defined"
     ]
    }
   ],
   "source": [
    "fileTXT = open(root + dataTXT, 'r') "
   ]
  },
  {
   "cell_type": "code",
   "execution_count": 25,
   "id": "acknowledged-ideal",
   "metadata": {},
   "outputs": [
    {
     "ename": "NameError",
     "evalue": "name 'a' is not defined",
     "output_type": "error",
     "traceback": [
      "\u001b[1;31m---------------------------------------------------------------------------\u001b[0m",
      "\u001b[1;31mNameError\u001b[0m                                 Traceback (most recent call last)",
      "\u001b[1;32m<ipython-input-25-5abc73a371dd>\u001b[0m in \u001b[0;36m<module>\u001b[1;34m\u001b[0m\n\u001b[1;32m----> 1\u001b[1;33m \u001b[0mfileTXT\u001b[0m \u001b[1;33m=\u001b[0m \u001b[0mopen\u001b[0m\u001b[1;33m(\u001b[0m\u001b[0ma\u001b[0m\u001b[1;33m.\u001b[0m\u001b[0mtxt\u001b[0m\u001b[1;33m,\u001b[0m \u001b[1;34m'r'\u001b[0m\u001b[1;33m)\u001b[0m\u001b[1;33m\u001b[0m\u001b[1;33m\u001b[0m\u001b[0m\n\u001b[0m",
      "\u001b[1;31mNameError\u001b[0m: name 'a' is not defined"
     ]
    }
   ],
   "source": [
    "fileTXT = open(a.txt, 'r')"
   ]
  },
  {
   "cell_type": "code",
   "execution_count": null,
   "id": "touched-leader",
   "metadata": {},
   "outputs": [],
   "source": []
  }
 ],
 "metadata": {
  "kernelspec": {
   "display_name": "Python 3",
   "language": "python",
   "name": "python3"
  },
  "language_info": {
   "codemirror_mode": {
    "name": "ipython",
    "version": 3
   },
   "file_extension": ".py",
   "mimetype": "text/x-python",
   "name": "python",
   "nbconvert_exporter": "python",
   "pygments_lexer": "ipython3",
   "version": "3.9.1"
  }
 },
 "nbformat": 4,
 "nbformat_minor": 5
}
