{
 "cells": [
  {
   "cell_type": "code",
   "execution_count": null,
   "id": "burning-verse",
   "metadata": {},
   "outputs": [],
   "source": [
    "# %load data.py\n",
    "from torch.utils.data import Dataset, DataLoader\n",
    "from torchvision import transforms\n",
    "import torch\n",
    "import numpy as np\n",
    "from PIL import Image\n",
    "\n",
    "def default_loader(path):\n",
    "    return Image.open(path).convert('F')\n",
    "\n",
    "class microPlankton(Dataset):\n",
    "    # 构造函数带有默认参数\n",
    "    def __init__(self, root, dataTXT, transform=None, target_transform=None, loader=default_loader):\n",
    "        fileTXT = open(root + dataTXT, 'r')  # read the txt file,which has imgPath and label\n",
    "        imgs = []  # creat a empty list named imgs, which is used to baggage some imgs\n",
    "        for line in fileTXT:\n",
    "            line = line.strip('\\n')\n",
    "            line = line.rstrip()\n",
    "            words = line.split()  # get a list file of fileTXT\n",
    "            imgs.append((words[0], int(words[1])))  # thus imgs is the list of img and its label\n",
    "\n",
    "        self.imgs = imgs\n",
    "        self.transform = transform\n",
    "        self.target_transform = target_transform\n",
    "        self.loader = loader\n",
    "\n",
    "    def __getitem__(self, item):\n",
    "        imgDataPath, label = self.imgs[item]\n",
    "        img = self.loader(imgDataPath)\n",
    "        if self.transform is not None:\n",
    "            img = self.transform(img)\n",
    "        return img, label\n",
    "\n",
    "    def __len__(self):\n",
    "        return len(self.imgs)\n",
    "\n"
   ]
  },
  {
   "cell_type": "code",
   "execution_count": 18,
   "id": "separated-effectiveness",
   "metadata": {},
   "outputs": [
    {
     "name": "stdout",
     "output_type": "stream",
     "text": [
      "data\\Couette\n",
      "data\\Couette\n",
      "data\\Couette\n",
      "data\\Couette\n"
     ]
    }
   ],
   "source": [
    "root=\"C:/Users/NayakLab/Desktop/Ranjoy data/Couette chamber/automated_classification/holographic_plankton_classification-main/train/\"\n",
    "dataTXT=\"a.txt\"\n",
    "#fileTXT = open(root+dataTXT, 'r')\n",
    "fileTXT = open(root + dataTXT, 'r')  # read the txt file,which has imgPath and label\n",
    "imgs = []  # creat a empty list named imgs, which is used to baggage some imgs\n",
    "for line in fileTXT:\n",
    "            line = line.strip('\\n')\n",
    "            line = line.rstrip()\n",
    "            words = line.split()  # get a list file of fileTXT\n",
    "            print(words[1])"
   ]
  },
  {
   "cell_type": "code",
   "execution_count": 23,
   "id": "enclosed-algebra",
   "metadata": {},
   "outputs": [
    {
     "data": {
      "text/plain": [
       "False"
      ]
     },
     "execution_count": 23,
     "metadata": {},
     "output_type": "execute_result"
    }
   ],
   "source": [
    "import torch\n",
    "torch.cuda.is_available() "
   ]
  },
  {
   "cell_type": "code",
   "execution_count": null,
   "id": "better-shift",
   "metadata": {},
   "outputs": [],
   "source": []
  }
 ],
 "metadata": {
  "kernelspec": {
   "display_name": "Python 3",
   "language": "python",
   "name": "python3"
  },
  "language_info": {
   "codemirror_mode": {
    "name": "ipython",
    "version": 3
   },
   "file_extension": ".py",
   "mimetype": "text/x-python",
   "name": "python",
   "nbconvert_exporter": "python",
   "pygments_lexer": "ipython3",
   "version": "3.9.1"
  }
 },
 "nbformat": 4,
 "nbformat_minor": 5
}
