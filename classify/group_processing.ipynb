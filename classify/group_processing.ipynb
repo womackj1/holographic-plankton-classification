{
 "cells": [
  {
   "cell_type": "code",
   "execution_count": 3,
   "id": "little-challenge",
   "metadata": {},
   "outputs": [
    {
     "name": "stdout",
     "output_type": "stream",
     "text": [
      "C:\\Users\\lnyman2012\\Desktop\\test/ C:\\Users\\lnyman2012\\Desktop\\test/\\crop_withBackground/ C:/Users/lnyman2012/Desktop/test//crop_withBackground/\n",
      "segmentationTime = 0.9485812187194824\n",
      "classification = 0.0\n",
      "totalTime= 0.9495506286621094\n"
     ]
    }
   ],
   "source": [
    "import os\n",
    "import numpy as np\n",
    "import imgCrop\n",
    "import easyTips as et\n",
    "import loadUse_v2\n",
    "import time\n",
    "\n",
    "\n",
    "# ------------------------parameters setting\n",
    "holoPath = r'C:\\Users\\lnyman2012\\Desktop\\test/'\n",
    "netPath = r'C:\\automated_classification\\holographic_plankton_classification-main\\modelGen\\shufflenet_v2_x1_5_04261223wb12_res01_batch16.pt'\n",
    "classNum = 2\n",
    "fileType = '.tif'\n",
    "\n",
    "# -----------------------preprocessing parameters\n",
    "segmentSavePath = holoPath+r'\\crop_withBackground/'\n",
    "cropSizeLimit = 20\n",
    "sigmaBlur= 0\n",
    "morphFlag = True\n",
    "adaptiveThreshold = True\n",
    "noSuperviewThre = False\n",
    "outputRawImg = False\n",
    "outputCoordinateFlag = True\n",
    "saveWithBackgroundFlag = True\n",
    "paddingNum = 20\n",
    "kernalSizeBlur = (201,201)\n",
    "matchFlag = True\n",
    "adaptPare1 = 211\n",
    "adaptPare2 = 2\n",
    "morphPara1 = (90,90)\n",
    "\n",
    "# ---------------------------net parameters\n",
    "outputPath = holoPath+r'\\result_withBackground10'\n",
    "resultOutPath = ''\n",
    "inputSize = 400\n",
    "batchSize = 20\n",
    "saveClsaaFlag = True\n",
    "printScoreFlag = True\n",
    "paddingFlag = True\n",
    "topFlag = True\n",
    "softCalFlag = True\n",
    "respectivelyCountFlag = True\n",
    "labelLib = ['Nothing', 'Kbrevis']\n",
    "#labelLib = ['Diatom_1', 'Diatom_2', 'Diatom_3', 'Diatom_4', 'Diatom_5', 'Copepod', 'Copepod_Nauplii', 'Ciliate',\n",
    "#             'Ceratium_sp1','Ceratium_sp2', 'nothing']\n",
    "# labelLib = ['Diatom_1', 'Diatom_2', 'Diatom_3', 'Diatom_4', 'Diatom_5', 'Copepod', 'Copepod_Nauplii', 'Null',\n",
    "#             'Null','Null','Null']\n",
    "# labelLib = ['Diatom_1', 'Diatom_2', 'Diatom_3', 'Diatom_4', 'Diatom_5', 'Copepod', 'Copepod_Nauplii', 'Null',\n",
    "#             ]\n",
    "#labelLib = ['background', 'fuca_d', 'fuca_s', 'fusus_d', 'fusus_s', 'muelleri_d', 'muelleri_s', 'ciliate', 'diatom',\n",
    "#            'copeped','nauplii', 'round','square']\n",
    "\n",
    "beginTime = time.time()\n",
    "\n",
    "#bring this back if segmenting\n",
    "imgCrop.imgSegment(holoPath,fileType,matchFlag, outputCoordinateFlag,segmentSavePath,adaptiveThreshold,outputRawImg ,morphFlag ,\n",
    "                noSuperviewThre,sigmaBlur, kernalSizeBlur ,saveWithBackgroundFlag,cropSizeLimit, paddingNum, adaptPare1,adaptPare2,morphPara1)\n",
    "\n",
    "timeMark1 = time.time()\n",
    "print('segmentationTime =', timeMark1-beginTime)\n",
    "\n",
    "folderNum = len([lists for lists in os.listdir(segmentSavePath) if os.path.isdir(os.path.join(segmentSavePath, lists))])\n",
    "\n",
    "#et.creatFolder(outputPath, )\n",
    "\n",
    "timeMark2 = time.time()\n",
    "\n",
    "#for groupNum in np.arange(folderNum):\n",
    " #   imgPath = segmentSavePath + '/'+\"%05d\" % groupNum\n",
    " #   loadUse_v2.netClassify(softCalFlag, paddingFlag, groupNum, netPath,imgPath,outputPath,labelLib,fileType, inputSize,batchSize,classNum,saveClsaaFlag,respectivelyCountFlag,printScoreFlag ,topFlag)\n",
    "\n",
    "timeMark3 = time.time()\n",
    "print('classification =', timeMark3-timeMark2)\n",
    "print('totalTime=', timeMark3-beginTime)\n"
   ]
  },
  {
   "cell_type": "code",
   "execution_count": 7,
   "id": "documentary-train",
   "metadata": {},
   "outputs": [
    {
     "data": {
      "text/plain": [
       "array([0])"
      ]
     },
     "execution_count": 7,
     "metadata": {},
     "output_type": "execute_result"
    }
   ],
   "source": [
    "np.arange(folderNum)"
   ]
  },
  {
   "cell_type": "code",
   "execution_count": 2,
   "id": "emotional-expense",
   "metadata": {},
   "outputs": [
    {
     "data": {
      "text/plain": [
       "'C:\\\\automated_classification\\\\holographic_plankton_classification-main\\\\modelGen\\\\shufflenet_v2_x1_5_04261223wb12_res01_batch16.pt'"
      ]
     },
     "execution_count": 2,
     "metadata": {},
     "output_type": "execute_result"
    }
   ],
   "source": [
    "netPath\n"
   ]
  },
  {
   "cell_type": "code",
   "execution_count": null,
   "id": "assisted-submission",
   "metadata": {},
   "outputs": [],
   "source": []
  },
  {
   "cell_type": "code",
   "execution_count": 4,
   "id": "silver-bulgarian",
   "metadata": {},
   "outputs": [
    {
     "data": {
      "text/plain": [
       "'C:\\\\Users\\\\lnyman2012\\\\Desktop\\\\Testing/\\\\crop_withBackground/'"
      ]
     },
     "execution_count": 4,
     "metadata": {},
     "output_type": "execute_result"
    }
   ],
   "source": [
    "segmentSavePath\n"
   ]
  },
  {
   "cell_type": "code",
   "execution_count": 5,
   "id": "artificial-isolation",
   "metadata": {},
   "outputs": [
    {
     "ename": "NameError",
     "evalue": "name 'groupNum' is not defined",
     "output_type": "error",
     "traceback": [
      "\u001b[1;31m---------------------------------------------------------------------------\u001b[0m",
      "\u001b[1;31mNameError\u001b[0m                                 Traceback (most recent call last)",
      "\u001b[1;32m<ipython-input-5-8870e3bc473d>\u001b[0m in \u001b[0;36m<module>\u001b[1;34m\u001b[0m\n\u001b[1;32m----> 1\u001b[1;33m \u001b[0mgroupNum\u001b[0m\u001b[1;33m\u001b[0m\u001b[1;33m\u001b[0m\u001b[0m\n\u001b[0m",
      "\u001b[1;31mNameError\u001b[0m: name 'groupNum' is not defined"
     ]
    }
   ],
   "source": [
    "groupNum"
   ]
  },
  {
   "cell_type": "code",
   "execution_count": null,
   "id": "extensive-reliance",
   "metadata": {},
   "outputs": [],
   "source": []
  }
 ],
 "metadata": {
  "kernelspec": {
   "display_name": "Python 3",
   "language": "python",
   "name": "python3"
  },
  "language_info": {
   "codemirror_mode": {
    "name": "ipython",
    "version": 3
   },
   "file_extension": ".py",
   "mimetype": "text/x-python",
   "name": "python",
   "nbconvert_exporter": "python",
   "pygments_lexer": "ipython3",
   "version": "3.7.10"
  },
  "varInspector": {
   "cols": {
    "lenName": 16,
    "lenType": 16,
    "lenVar": 40
   },
   "kernels_config": {
    "python": {
     "delete_cmd_postfix": "",
     "delete_cmd_prefix": "del ",
     "library": "var_list.py",
     "varRefreshCmd": "print(var_dic_list())"
    },
    "r": {
     "delete_cmd_postfix": ") ",
     "delete_cmd_prefix": "rm(",
     "library": "var_list.r",
     "varRefreshCmd": "cat(var_dic_list()) "
    }
   },
   "types_to_exclude": [
    "module",
    "function",
    "builtin_function_or_method",
    "instance",
    "_Feature"
   ],
   "window_display": false
  }
 },
 "nbformat": 4,
 "nbformat_minor": 5
}
