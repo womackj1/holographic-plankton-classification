{
 "cells": [
  {
   "cell_type": "code",
   "execution_count": 21,
   "id": "enabling-compensation",
   "metadata": {},
   "outputs": [
    {
     "name": "stdout",
     "output_type": "stream",
     "text": [
      "segmentationTime = 0.0\n"
     ]
    },
    {
     "ename": "FileNotFoundError",
     "evalue": "[WinError 3] The system cannot find the path specified: 'D:\\\\Plankton_images_database\\\\Eastsound_2015_database\\\\test_images/\\\\Tripos_cf._muelleri/'",
     "output_type": "error",
     "traceback": [
      "\u001b[1;31m---------------------------------------------------------------------------\u001b[0m",
      "\u001b[1;31mFileNotFoundError\u001b[0m                         Traceback (most recent call last)",
      "\u001b[1;32m<ipython-input-21-cf05c6078b82>\u001b[0m in \u001b[0;36m<module>\u001b[1;34m\u001b[0m\n\u001b[0;32m     64\u001b[0m \u001b[0mprint\u001b[0m\u001b[1;33m(\u001b[0m\u001b[1;34m'segmentationTime ='\u001b[0m\u001b[1;33m,\u001b[0m \u001b[0mtimeMark1\u001b[0m\u001b[1;33m-\u001b[0m\u001b[0mbeginTime\u001b[0m\u001b[1;33m)\u001b[0m\u001b[1;33m\u001b[0m\u001b[1;33m\u001b[0m\u001b[0m\n\u001b[0;32m     65\u001b[0m \u001b[1;33m\u001b[0m\u001b[0m\n\u001b[1;32m---> 66\u001b[1;33m \u001b[0mfolderNum\u001b[0m \u001b[1;33m=\u001b[0m \u001b[0mlen\u001b[0m\u001b[1;33m(\u001b[0m\u001b[1;33m[\u001b[0m\u001b[0mlists\u001b[0m \u001b[1;32mfor\u001b[0m \u001b[0mlists\u001b[0m \u001b[1;32min\u001b[0m \u001b[0mos\u001b[0m\u001b[1;33m.\u001b[0m\u001b[0mlistdir\u001b[0m\u001b[1;33m(\u001b[0m\u001b[0msegmentSavePath\u001b[0m\u001b[1;33m)\u001b[0m \u001b[1;32mif\u001b[0m \u001b[0mos\u001b[0m\u001b[1;33m.\u001b[0m\u001b[0mpath\u001b[0m\u001b[1;33m.\u001b[0m\u001b[0misdir\u001b[0m\u001b[1;33m(\u001b[0m\u001b[0mos\u001b[0m\u001b[1;33m.\u001b[0m\u001b[0mpath\u001b[0m\u001b[1;33m.\u001b[0m\u001b[0mjoin\u001b[0m\u001b[1;33m(\u001b[0m\u001b[0msegmentSavePath\u001b[0m\u001b[1;33m,\u001b[0m \u001b[0mlists\u001b[0m\u001b[1;33m)\u001b[0m\u001b[1;33m)\u001b[0m\u001b[1;33m]\u001b[0m\u001b[1;33m)\u001b[0m\u001b[1;33m\u001b[0m\u001b[1;33m\u001b[0m\u001b[0m\n\u001b[0m\u001b[0;32m     67\u001b[0m \u001b[1;33m\u001b[0m\u001b[0m\n\u001b[0;32m     68\u001b[0m \u001b[1;31m#et.creatFolder(outputPath, )\u001b[0m\u001b[1;33m\u001b[0m\u001b[1;33m\u001b[0m\u001b[1;33m\u001b[0m\u001b[0m\n",
      "\u001b[1;31mFileNotFoundError\u001b[0m: [WinError 3] The system cannot find the path specified: 'D:\\\\Plankton_images_database\\\\Eastsound_2015_database\\\\test_images/\\\\Tripos_cf._muelleri/'"
     ]
    }
   ],
   "source": [
    "import os\n",
    "import numpy as np\n",
    "import imgCrop\n",
    "import easyTips as et\n",
    "import loadUse_v2\n",
    "import time\n",
    "\n",
    "\n",
    "# ------------------------parameters setting\n",
    "holoPath = r'D:\\Plankton_images_database\\Eastsound_2015_database\\test_images/'\n",
    "holoPath1 = r'D:\\test_eastsound15/'\n",
    "netPath = r'C:\\automated_classification\\holographic_plankton_classification-main\\modelGen\\shufflenet_v2_x1_5_08110228wb12_res01_eastsound.pt'\n",
    "classNum = 17\n",
    "fileType = '.tif'\n",
    "\n",
    "# -----------------------preprocessing parameters\n",
    "segmentSavePath = holoPath+r'\\Tripos_cf._muelleri/'\n",
    "cropSizeLimit = 20\n",
    "sigmaBlur= 0\n",
    "morphFlag = True\n",
    "adaptiveThreshold = True\n",
    "noSuperviewThre = False\n",
    "outputRawImg = False\n",
    "outputCoordinateFlag = True\n",
    "saveWithBackgroundFlag = True\n",
    "paddingNum = 20\n",
    "kernalSizeBlur = (71,71)\n",
    "matchFlag = True\n",
    "adaptPare1 = 111\n",
    "adaptPare2 = 2\n",
    "morphPara1 = (20,20)\n",
    "\n",
    "# ---------------------------net parameters\n",
    "outputPath = holoPath+r'\\result_withBackground10/'\n",
    "resultOutPath = ''\n",
    "inputSize = 400\n",
    "batchSize = 20\n",
    "saveClsaaFlag = True\n",
    "printScoreFlag = True\n",
    "paddingFlag = True\n",
    "topFlag = True\n",
    "softCalFlag = True\n",
    "respectivelyCountFlag = True\n",
    "#labelLib = ['Nothing', 'Kbrevis']\n",
    "#labelLib = ['Diatom_1', 'Diatom_2', 'Diatom_3', 'Diatom_4', 'Diatom_5', 'Copepod', 'Copepod_Nauplii', 'Ciliate',\n",
    "#             'Ceratium_sp1','Ceratium_sp2', 'nothing']\n",
    "labelLib =['Appendicularian', 'Box_Chain_Diatom', 'C._concavicornus', 'C._debilis', 'C_Shaped_Diatom', 'Copepod', 'Copepod_Nauplii', \n",
    "         'D._brightwellii', 'Diatom_sp', 'L._strobila', 'Marine_Snow', 'Round_Coscinodiscus', 'Square_Coscinodiscus', \n",
    "         'Thalassiosira_sp', 'Tripos_cf._furca','Tripos_cf._muelleri', 'Background']\n",
    "# labelLib = ['Diatom_1', 'Diatom_2', 'Diatom_3', 'Diatom_4', 'Diatom_5', 'Copepod', 'Copepod_Nauplii', 'Null',\n",
    "#             'Null','Null','Null']\n",
    "# labelLib = ['Diatom_1', 'Diatom_2', 'Diatom_3', 'Diatom_4', 'Diatom_5', 'Copepod', 'Copepod_Nauplii', 'Null',\n",
    "#             ]\n",
    "#labelLib = ['background', 'fuca_d', 'fuca_s', 'fusus_d', 'fusus_s', 'muelleri_d', 'muelleri_s', 'ciliate', 'diatom',\n",
    "#            'copeped','nauplii', 'round','square']\n",
    "\n",
    "beginTime = time.time()\n",
    "\n",
    "#bring this back if segmenting\n",
    "#imgCrop.imgSegment(holoPath,fileType,matchFlag, outputCoordinateFlag,segmentSavePath,adaptiveThreshold,outputRawImg ,morphFlag ,\n",
    "#                noSuperviewThre,sigmaBlur, kernalSizeBlur ,saveWithBackgroundFlag,cropSizeLimit, paddingNum, adaptPare1,adaptPare2,morphPara1)\n",
    "\n",
    "timeMark1 = time.time()\n",
    "print('segmentationTime =', timeMark1-beginTime)\n",
    "\n",
    "folderNum = len([lists for lists in os.listdir(segmentSavePath) if os.path.isdir(os.path.join(segmentSavePath, lists))])\n",
    "\n",
    "#et.creatFolder(outputPath, )\n",
    "\n",
    "timeMark2 = time.time()\n",
    "\n",
    "for groupNum in np.arange(folderNum):\n",
    "    imgPath = segmentSavePath + '/'+\"%05d\" % groupNum\n",
    "    loadUse_v2.netClassify(softCalFlag, paddingFlag, groupNum, netPath,imgPath,outputPath,labelLib,fileType, inputSize,batchSize,classNum,saveClsaaFlag,respectivelyCountFlag,printScoreFlag ,topFlag)\n",
    "\n",
    "timeMark3 = time.time()\n",
    "print('classification =', timeMark3-timeMark2)\n",
    "print('totalTime=', timeMark3-beginTime)"
   ]
  },
  {
   "cell_type": "code",
   "execution_count": null,
   "id": "dominican-performance",
   "metadata": {},
   "outputs": [],
   "source": []
  }
 ],
 "metadata": {
  "kernelspec": {
   "display_name": "Python 3",
   "language": "python",
   "name": "python3"
  },
  "language_info": {
   "codemirror_mode": {
    "name": "ipython",
    "version": 3
   },
   "file_extension": ".py",
   "mimetype": "text/x-python",
   "name": "python",
   "nbconvert_exporter": "python",
   "pygments_lexer": "ipython3",
   "version": "3.7.10"
  },
  "varInspector": {
   "cols": {
    "lenName": 16,
    "lenType": 16,
    "lenVar": 40
   },
   "kernels_config": {
    "python": {
     "delete_cmd_postfix": "",
     "delete_cmd_prefix": "del ",
     "library": "var_list.py",
     "varRefreshCmd": "print(var_dic_list())"
    },
    "r": {
     "delete_cmd_postfix": ") ",
     "delete_cmd_prefix": "rm(",
     "library": "var_list.r",
     "varRefreshCmd": "cat(var_dic_list()) "
    }
   },
   "types_to_exclude": [
    "module",
    "function",
    "builtin_function_or_method",
    "instance",
    "_Feature"
   ],
   "window_display": false
  }
 },
 "nbformat": 4,
 "nbformat_minor": 5
}
