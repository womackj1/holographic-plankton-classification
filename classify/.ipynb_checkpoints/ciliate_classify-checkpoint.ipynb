{
 "cells": [
  {
   "cell_type": "code",
   "execution_count": 6,
   "id": "little-challenge",
   "metadata": {},
   "outputs": [
    {
     "name": "stdout",
     "output_type": "stream",
     "text": [
      "E:\\InTro_data\\25b\\1-9921_all\\Splat2/ D:\\new_ciliate_data\\crop_withBackground_25b/ D:/new_ciliate_data/crop_withBackground_25b/\n"
     ]
    },
    {
     "ename": "KeyboardInterrupt",
     "evalue": "",
     "output_type": "error",
     "traceback": [
      "\u001b[1;31m---------------------------------------------------------------------------\u001b[0m",
      "\u001b[1;31mKeyboardInterrupt\u001b[0m                         Traceback (most recent call last)",
      "\u001b[1;32m<ipython-input-6-07871b73deb3>\u001b[0m in \u001b[0;36m<module>\u001b[1;34m\u001b[0m\n\u001b[0;32m     61\u001b[0m \u001b[1;33m\u001b[0m\u001b[0m\n\u001b[0;32m     62\u001b[0m imgCrop_v3.imgSegment(holoPath,fileType,matchFlag, outputCoordinateFlag,segmentSavePath,adaptiveThreshold,outputRawImg ,morphFlag ,\n\u001b[1;32m---> 63\u001b[1;33m                 noSuperviewThre,sigmaBlur, kernalSizeBlur ,binary_threshold ,saveWithBackgroundFlag,cropSizeLimit, paddingNum, adaptPare1,adaptPare2,morphPara1)\n\u001b[0m\u001b[0;32m     64\u001b[0m \u001b[1;33m\u001b[0m\u001b[0m\n\u001b[0;32m     65\u001b[0m \u001b[1;31m#imgCrop.imgSegment(holoPath,fileType,matchFlag, outputCoordinateFlag,segmentSavePath,adaptiveThreshold,outputRawImg ,morphFlag ,\u001b[0m\u001b[1;33m\u001b[0m\u001b[1;33m\u001b[0m\u001b[1;33m\u001b[0m\u001b[0m\n",
      "\u001b[1;32mC:\\automated_classification\\holographic_plankton_classification-main\\classify\\imgCrop_v3.py\u001b[0m in \u001b[0;36mimgSegment\u001b[1;34m(filePath, fileType, matchFlag, outputCoordinateFlag, saveFolder, adaptiveThreshold, outputBigImg, morphFlag, noSuperviewThre, sigmaBlur, kernalSizeBlur, binary_threshold, saveWithBackgroundFlag, sizeLimit, paddingNum, adaptPare1, adaptPare2, morphPara1)\u001b[0m\n\u001b[0;32m     97\u001b[0m \u001b[1;33m\u001b[0m\u001b[0m\n\u001b[0;32m     98\u001b[0m                 \u001b[0msaveFullPath\u001b[0m \u001b[1;33m=\u001b[0m \u001b[0msaveSubPath\u001b[0m\u001b[1;33m+\u001b[0m\u001b[1;34m'/'\u001b[0m\u001b[1;33m+\u001b[0m\u001b[0mimgName\u001b[0m\u001b[1;33m+\u001b[0m\u001b[1;34m'_'\u001b[0m\u001b[1;33m+\u001b[0m\u001b[1;34m\"%04d\"\u001b[0m \u001b[1;33m%\u001b[0m \u001b[0mcoorN\u001b[0m \u001b[1;33m+\u001b[0m\u001b[1;34m'.tif'\u001b[0m\u001b[1;33m\u001b[0m\u001b[1;33m\u001b[0m\u001b[0m\n\u001b[1;32m---> 99\u001b[1;33m                 \u001b[0mcv\u001b[0m\u001b[1;33m.\u001b[0m\u001b[0mimwrite\u001b[0m\u001b[1;33m(\u001b[0m\u001b[0msaveFullPath\u001b[0m\u001b[1;33m,\u001b[0m \u001b[0mcropImg\u001b[0m\u001b[1;33m)\u001b[0m\u001b[1;33m\u001b[0m\u001b[1;33m\u001b[0m\u001b[0m\n\u001b[0m\u001b[0;32m    100\u001b[0m                 \u001b[1;32mif\u001b[0m \u001b[0moutputBigImg\u001b[0m\u001b[1;33m:\u001b[0m\u001b[1;33m\u001b[0m\u001b[1;33m\u001b[0m\u001b[0m\n\u001b[0;32m    101\u001b[0m                     \u001b[0mboxList\u001b[0m\u001b[1;33m.\u001b[0m\u001b[0mappend\u001b[0m\u001b[1;33m(\u001b[0m\u001b[0mm\u001b[0m\u001b[1;33m)\u001b[0m\u001b[1;33m\u001b[0m\u001b[1;33m\u001b[0m\u001b[0m\n",
      "\u001b[1;31mKeyboardInterrupt\u001b[0m: "
     ]
    }
   ],
   "source": [
    "import os\n",
    "import numpy as np\n",
    "import imgCrop_v3\n",
    "import easyTips as et\n",
    "import loadUse_v3\n",
    "import time\n",
    "\n",
    "\n",
    "# ------------------------parameters setting\n",
    "holoPath = r'E:\\InTro_data\\25b\\1-9921_all\\Splat2/'\n",
    "netPath = r'C:\\automated_classification\\holographic_plankton_classification-main\\modelGen\\vgg19_09201304wb12_res01_intro.pt'\n",
    "classNum = 17\n",
    "fileType = '.tif'\n",
    "\n",
    "# -----------------------preprocessing parameters\n",
    "segmentSavePath = r'D:\\new_ciliate_data\\crop_withBackground_25b/'\n",
    "cropSizeLimit = 20\n",
    "sigmaBlur= 0\n",
    "morphFlag = False\n",
    "adaptiveThreshold = False\n",
    "noSuperviewThre = True\n",
    "outputRawImg = False\n",
    "outputCoordinateFlag = True\n",
    "saveWithBackgroundFlag = True\n",
    "paddingNum = 20\n",
    "kernalSizeBlur = (25,25)\n",
    "binary_threshold=65\n",
    "matchFlag = True\n",
    "adaptPare1 = 81\n",
    "adaptPare2 = 1\n",
    "morphPara1 = (20,20)\n",
    "\n",
    "# ---------------------------net parameters\n",
    "outputPath = r'D:\\new_ciliate_data\\result_withBackground_S25b/'\n",
    "resultOutPath = ''\n",
    "inputSize = 250\n",
    "batchSize = 20\n",
    "saveClsaaFlag = True\n",
    "printScoreFlag = True\n",
    "paddingFlag = True\n",
    "topFlag = True\n",
    "softCalFlag = True\n",
    "respectivelyCountFlag = True\n",
    "#labelLib = ['Diatom_1', 'Diatom_2', 'Diatom_3', 'Diatom_4', 'Diatom_5', 'Copepod', 'Copepod_Nauplii', 'Ciliate',\n",
    "#             'Ceratium_sp1','Ceratium_sp2', 'nothing']\n",
    "#labelLib =['Appendicularian', 'Box_Chain_Diatom', 'C._concavicornus', 'C._debilis', 'C_Shaped_Diatom', 'Copepod', 'Copepod_Nauplii', \n",
    "#         'D._brightwellii', 'Diatom_sp', 'L._strobila', 'Marine_Snow', 'Round_Coscinodiscus', 'Square_Coscinodiscus', \n",
    "#         'Thalassiosira_sp', 'Tripos_cf._furca','Tripos_cf._muelleri', 'Background','Aggregate', 'Decoy']\n",
    "\n",
    "labelLib =['Appendicularian', 'Ceratium_furca_(dividing)', 'Ceratium_furca_(singular)', 'Ceratium_fusus_(dividing)', 'Ceratium_fusus_(singular)', 'Ceratium_muelleri_(dividing)', 'Ceratium_muelleri_(singular)', \n",
    "         'Ciliate', 'Copepod', 'Copepod_Nauplii', 'Elongated_Diatom', 'Fecal_Pellets', 'Round_Coscinodiscus', \n",
    "         'Square_Coscinodiscus', 'Thalassiosira_sp', 'Decoy', 'Background']\n",
    "# labelLib = ['Diatom_1', 'Diatom_2', 'Diatom_3', 'Diatom_4', 'Diatom_5', 'Copepod', 'Copepod_Nauplii', 'Null',\n",
    "#             'Null','Null','Null']\n",
    "# labelLib = ['Diatom_1', 'Diatom_2', 'Diatom_3', 'Diatom_4', 'Diatom_5', 'Copepod', 'Copepod_Nauplii', 'Null',\n",
    "#             ]\n",
    "#labelLib = ['background', 'fuca_d', 'fuca_s', 'fusus_d', 'fusus_s', 'muelleri_d', 'muelleri_s', 'ciliate', 'diatom',\n",
    "#            'copeped','nauplii', 'round','square']\n",
    "\n",
    "beginTime = time.time()\n",
    "\n",
    "imgCrop_v3.imgSegment(holoPath,fileType,matchFlag, outputCoordinateFlag,segmentSavePath,adaptiveThreshold,outputRawImg ,morphFlag ,\n",
    "                noSuperviewThre,sigmaBlur, kernalSizeBlur ,binary_threshold ,saveWithBackgroundFlag,cropSizeLimit, paddingNum, adaptPare1,adaptPare2,morphPara1)\n",
    "\n",
    "#imgCrop.imgSegment(holoPath,fileType,matchFlag, outputCoordinateFlag,segmentSavePath,adaptiveThreshold,outputRawImg ,morphFlag ,\n",
    "#                noSuperviewThre,sigmaBlur, kernalSizeBlur ,saveWithBackgroundFlag,cropSizeLimit, paddingNum, adaptPare1,adaptPare2,morphPara1)\n",
    "\n",
    "timeMark1 = time.time()\n",
    "print('segmentationTime =', timeMark1-beginTime)\n",
    "\n",
    "folderNum = len([lists for lists in os.listdir(segmentSavePath) if os.path.isdir(os.path.join(segmentSavePath, lists))])\n",
    "\n",
    "#et.creatFolder(outputPath, )\n",
    "\n",
    "timeMark2 = time.time()\n",
    "\n",
    "for groupNum in np.arange(folderNum):\n",
    "    imgPath = segmentSavePath + '/'+\"%05d\" % groupNum\n",
    "    loadUse_v3.netClassify(softCalFlag, paddingFlag, groupNum, netPath,imgPath,outputPath,labelLib,fileType, inputSize,batchSize,classNum,saveClsaaFlag,respectivelyCountFlag,printScoreFlag ,topFlag)\n",
    "\n",
    "timeMark3 = time.time()\n",
    "print('classification =', timeMark3-timeMark2)\n",
    "print('totalTime=', timeMark3-beginTime)\n"
   ]
  },
  {
   "cell_type": "code",
   "execution_count": 1,
   "id": "documentary-train",
   "metadata": {},
   "outputs": [
    {
     "ename": "NameError",
     "evalue": "name 'np' is not defined",
     "output_type": "error",
     "traceback": [
      "\u001b[1;31m---------------------------------------------------------------------------\u001b[0m",
      "\u001b[1;31mNameError\u001b[0m                                 Traceback (most recent call last)",
      "\u001b[1;32m~\\AppData\\Local\\Temp\\ipykernel_12908\\1920044504.py\u001b[0m in \u001b[0;36m<module>\u001b[1;34m\u001b[0m\n\u001b[1;32m----> 1\u001b[1;33m \u001b[0mnp\u001b[0m\u001b[1;33m.\u001b[0m\u001b[0marange\u001b[0m\u001b[1;33m(\u001b[0m\u001b[0mfolderNum\u001b[0m\u001b[1;33m)\u001b[0m\u001b[1;33m\u001b[0m\u001b[1;33m\u001b[0m\u001b[0m\n\u001b[0m",
      "\u001b[1;31mNameError\u001b[0m: name 'np' is not defined"
     ]
    }
   ],
   "source": [
    "np.arange(folderNum)"
   ]
  },
  {
   "cell_type": "code",
   "execution_count": 4,
   "id": "emotional-expense",
   "metadata": {},
   "outputs": [],
   "source": [
    "import torch\n",
    "from torchvision import transforms,datasets\n",
    "import numpy as np\n",
    "import os\n",
    "from torch.utils.data import DataLoader\n",
    "import time\n",
    "import torch.nn as nn\n",
    "from dataLoadProc import microPlankton"
   ]
  },
  {
   "cell_type": "code",
   "execution_count": 2,
   "id": "487ed6d9",
   "metadata": {},
   "outputs": [
    {
     "data": {
      "text/plain": [
       "device(type='cuda')"
      ]
     },
     "execution_count": 2,
     "metadata": {},
     "output_type": "execute_result"
    }
   ],
   "source": [
    "import torch\n",
    "torch.device(\"cuda\" if torch.cuda.is_available() else \"cpu\")"
   ]
  },
  {
   "cell_type": "code",
   "execution_count": null,
   "id": "67bb7bea",
   "metadata": {},
   "outputs": [],
   "source": []
  }
 ],
 "metadata": {
  "kernelspec": {
   "display_name": "Python 3",
   "language": "python",
   "name": "python3"
  },
  "language_info": {
   "codemirror_mode": {
    "name": "ipython",
    "version": 3
   },
   "file_extension": ".py",
   "mimetype": "text/x-python",
   "name": "python",
   "nbconvert_exporter": "python",
   "pygments_lexer": "ipython3",
   "version": "3.7.10"
  },
  "varInspector": {
   "cols": {
    "lenName": 16,
    "lenType": 16,
    "lenVar": 40
   },
   "kernels_config": {
    "python": {
     "delete_cmd_postfix": "",
     "delete_cmd_prefix": "del ",
     "library": "var_list.py",
     "varRefreshCmd": "print(var_dic_list())"
    },
    "r": {
     "delete_cmd_postfix": ") ",
     "delete_cmd_prefix": "rm(",
     "library": "var_list.r",
     "varRefreshCmd": "cat(var_dic_list()) "
    }
   },
   "types_to_exclude": [
    "module",
    "function",
    "builtin_function_or_method",
    "instance",
    "_Feature"
   ],
   "window_display": false
  }
 },
 "nbformat": 4,
 "nbformat_minor": 5
}
